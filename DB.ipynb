{
 "cells": [
  {
   "cell_type": "code",
   "execution_count": 80,
   "id": "f87a51f5-c9ed-49a2-8aef-c5833576f2bd",
   "metadata": {},
   "outputs": [],
   "source": [
    "import pandas as pd\n",
    "import numpy as np\n",
    "import requests\n",
    "from bs4 import BeautifulSoup\n",
    "import time\n",
    "import re"
   ]
  },
  {
   "cell_type": "code",
   "execution_count": 17,
   "id": "3f337526-af13-445a-bf1c-e6a5d284a208",
   "metadata": {},
   "outputs": [],
   "source": [
    "code = '005930'"
   ]
  },
  {
   "cell_type": "code",
   "execution_count": 64,
   "id": "7e272440-63bf-40a5-a34e-3c2b10d91510",
   "metadata": {},
   "outputs": [],
   "source": [
    "url = f'https://finance.naver.com/item/board.naver?code={code}&page=1'"
   ]
  },
  {
   "cell_type": "code",
   "execution_count": 65,
   "id": "1b66b553-5179-4042-9e37-cb0edf3d5078",
   "metadata": {},
   "outputs": [],
   "source": [
    "html=requests.get(url, headers = {'User-agent' : 'Mozilla/5.0'}).text"
   ]
  },
  {
   "cell_type": "code",
   "execution_count": 66,
   "id": "fc8b5da8-c673-46c1-9c0a-65550c8bb775",
   "metadata": {},
   "outputs": [],
   "source": [
    "soup = BeautifulSoup(html, 'html.parser')"
   ]
  },
  {
   "cell_type": "code",
   "execution_count": 72,
   "id": "f7c43d1f-8fb2-4d16-be5a-cf321ab332bf",
   "metadata": {},
   "outputs": [],
   "source": [
    "a = soup.find_all('span', {'class':\"tah p10 gray03\"})"
   ]
  },
  {
   "cell_type": "code",
   "execution_count": 89,
   "id": "6a85b6a1-c8b0-4573-aac6-9e0570c89a67",
   "metadata": {},
   "outputs": [],
   "source": [
    "dates = [ date.get_text() for date in soup.find_all('span', {'class':\"tah p10 gray03\"})]\n",
    "\n",
    "date_list = []\n",
    "for date in dates:\n",
    "    if re.search(r'\\d+.\\d+.\\d+.', date) != None:\n",
    "        date_list.append(date)\n"
   ]
  },
  {
   "cell_type": "code",
   "execution_count": 96,
   "id": "dd4b59d5-b712-4d21-b121-dd3afe09c8b6",
   "metadata": {},
   "outputs": [
    {
     "data": {
      "text/plain": [
       "['2022.02.07 22:14',\n",
       " '2022.02.07 22:12',\n",
       " '2022.02.07 22:12',\n",
       " '2022.02.07 22:11',\n",
       " '2022.02.07 22:11',\n",
       " '2022.02.07 22:12',\n",
       " '2022.02.07 22:11',\n",
       " '2022.02.07 22:11',\n",
       " '2022.02.07 22:10',\n",
       " '2022.02.07 22:10',\n",
       " '2022.02.07 22:10',\n",
       " '2022.02.07 22:10',\n",
       " '2022.02.07 22:10',\n",
       " '2022.02.07 22:10',\n",
       " '2022.02.07 22:09',\n",
       " '2022.02.07 22:08',\n",
       " '2022.02.07 22:08',\n",
       " '2022.02.07 22:08',\n",
       " '2022.02.07 22:08',\n",
       " '2022.02.07 22:07']"
      ]
     },
     "execution_count": 96,
     "metadata": {},
     "output_type": "execute_result"
    }
   ],
   "source": [
    "date_list"
   ]
  },
  {
   "cell_type": "code",
   "execution_count": 111,
   "id": "2bcbfa98-b5d9-4dbf-813d-dca6d87e26bc",
   "metadata": {},
   "outputs": [],
   "source": [
    "def head_sub(num,code) : \n",
    "    sub_title = []\n",
    "    date_list = []\n",
    "    for i in range(num+1):\n",
    "        url = f'https://finance.naver.com/item/board.naver?code={code}&page={i}'\n",
    "        html=requests.get(url, headers = {'User-agent' : 'Mozilla/5.0'}).text\n",
    "        soup = BeautifulSoup(html, 'html.parser')\n",
    "        a = soup.find_all('td', {'class':'title'})\n",
    "        for title in a:\n",
    "            sub_title.append(title.find('a')['title'])\n",
    "        b = soup.find_all('span', {'class':\"tah p10 gray03\"})\n",
    "        dates = [ date.get_text() for date in b]\n",
    "        for date in dates:\n",
    "            if re.search(r'\\d+.\\d+.\\d+.', date) != None:\n",
    "                date_list.append(date)\n",
    "    df = pd.DataFrame(zip(sub_title, date_list), columns = ['title','date'])\n",
    "    return df"
   ]
  },
  {
   "cell_type": "code",
   "execution_count": 113,
   "id": "58919af4-3476-4aee-9d7f-b15c24fa2acf",
   "metadata": {},
   "outputs": [],
   "source": [
    "samsung = head_sub(num = 1000, code = '005930')"
   ]
  },
  {
   "cell_type": "code",
   "execution_count": 121,
   "id": "77dbf14f-7b62-4048-94a7-ae846abe6f17",
   "metadata": {},
   "outputs": [],
   "source": [
    "samsung.to_csv('G:/DB/samsung.csv', index = False, header=True, encoding = 'euc-kr')"
   ]
  },
  {
   "cell_type": "code",
   "execution_count": null,
   "id": "6a46f46b-53a4-4893-9017-9b1f219af2fd",
   "metadata": {},
   "outputs": [],
   "source": []
  }
 ],
 "metadata": {
  "kernelspec": {
   "display_name": "Python 3 (ipykernel)",
   "language": "python",
   "name": "python3"
  },
  "language_info": {
   "codemirror_mode": {
    "name": "ipython",
    "version": 3
   },
   "file_extension": ".py",
   "mimetype": "text/x-python",
   "name": "python",
   "nbconvert_exporter": "python",
   "pygments_lexer": "ipython3",
   "version": "3.8.8"
  }
 },
 "nbformat": 4,
 "nbformat_minor": 5
}
